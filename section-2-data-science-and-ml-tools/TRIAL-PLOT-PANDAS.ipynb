{
 "cells": [
  {
   "cell_type": "markdown",
   "id": "725cc404",
   "metadata": {},
   "source": [
    "# THIS IS THE TRIAL ON MATPLOTLIB USING PANDAS DATA FRAME"
   ]
  },
  {
   "cell_type": "markdown",
   "id": "9bd46254",
   "metadata": {},
   "source": [
    "## WE WILL USE THE car_sales csv as our example."
   ]
  },
  {
   "cell_type": "code",
   "execution_count": 1,
   "id": "10d4e988",
   "metadata": {},
   "outputs": [],
   "source": [
    "# importing and managing all libs we need\n",
    "import numpy as np\n",
    "import pandas as pd\n",
    "# magic function on matplotlob \n",
    "%matplotlib inline\n",
    "import matplotlib.pyplot as plt"
   ]
  },
  {
   "cell_type": "code",
   "execution_count": 2,
   "id": "27bb54b8",
   "metadata": {},
   "outputs": [
    {
     "data": {
      "image/png": "[encoded data removed]",
      "text/plain": [
       "<Figure size 432x288 with 1 Axes>"
      ]
     },
     "metadata": {
      "needs_background": "light"
     },
     "output_type": "display_data"
    }
   ],
   "source": [
    "# test \n",
    "trialData = range(10)\n",
    "plt.plot(trialData);"
   ]
  },
  {
   "cell_type": "code",
   "execution_count": 3,
   "id": "4dc5dcee",
   "metadata": {},
   "outputs": [
    {
     "data": {
      "text/html": [
       "<div>\n",
       "<style scoped>\n",
       "    .dataframe tbody tr th:only-of-type {\n",
       "        vertical-align: middle;\n",
       "    }\n",
       "\n",
       "    .dataframe tbody tr th {\n",
       "        vertical-align: top;\n",
       "    }\n",
       "\n",
       "    .dataframe thead th {\n",
       "        text-align: right;\n",
       "    }\n",
       "</style>\n",
       "<table border=\"1\" class=\"dataframe\">\n",
       "  <thead>\n",
       "    <tr style=\"text-align: right;\">\n",
       "      <th></th>\n",
       "      <th>Make</th>\n",
       "      <th>Colour</th>\n",
       "      <th>Odometer (KM)</th>\n",
       "      <th>Doors</th>\n",
       "      <th>Price</th>\n",
       "    </tr>\n",
       "  </thead>\n",
       "  <tbody>\n",
       "    <tr>\n",
       "      <th>0</th>\n",
       "      <td>Toyota</td>\n",
       "      <td>White</td>\n",
       "      <td>150043</td>\n",
       "      <td>4</td>\n",
       "      <td>$4,000.00</td>\n",
       "    </tr>\n",
       "    <tr>\n",
       "      <th>1</th>\n",
       "      <td>Honda</td>\n",
       "      <td>Red</td>\n",
       "      <td>87899</td>\n",
       "      <td>4</td>\n",
       "      <td>$5,000.00</td>\n",
       "    </tr>\n",
       "    <tr>\n",
       "      <th>2</th>\n",
       "      <td>Toyota</td>\n",
       "      <td>Blue</td>\n",
       "      <td>32549</td>\n",
       "      <td>3</td>\n",
       "      <td>$7,000.00</td>\n",
       "    </tr>\n",
       "    <tr>\n",
       "      <th>3</th>\n",
       "      <td>BMW</td>\n",
       "      <td>Black</td>\n",
       "      <td>11179</td>\n",
       "      <td>5</td>\n",
       "      <td>$22,000.00</td>\n",
       "    </tr>\n",
       "    <tr>\n",
       "      <th>4</th>\n",
       "      <td>Nissan</td>\n",
       "      <td>White</td>\n",
       "      <td>213095</td>\n",
       "      <td>4</td>\n",
       "      <td>$3,500.00</td>\n",
       "    </tr>\n",
       "    <tr>\n",
       "      <th>5</th>\n",
       "      <td>Toyota</td>\n",
       "      <td>Green</td>\n",
       "      <td>99213</td>\n",
       "      <td>4</td>\n",
       "      <td>$4,500.00</td>\n",
       "    </tr>\n",
       "    <tr>\n",
       "      <th>6</th>\n",
       "      <td>Honda</td>\n",
       "      <td>Blue</td>\n",
       "      <td>45698</td>\n",
       "      <td>4</td>\n",
       "      <td>$7,500.00</td>\n",
       "    </tr>\n",
       "    <tr>\n",
       "      <th>7</th>\n",
       "      <td>Honda</td>\n",
       "      <td>Blue</td>\n",
       "      <td>54738</td>\n",
       "      <td>4</td>\n",
       "      <td>$7,000.00</td>\n",
       "    </tr>\n",
       "    <tr>\n",
       "      <th>8</th>\n",
       "      <td>Toyota</td>\n",
       "      <td>White</td>\n",
       "      <td>60000</td>\n",
       "      <td>4</td>\n",
       "      <td>$6,250.00</td>\n",
       "    </tr>\n",
       "    <tr>\n",
       "      <th>9</th>\n",
       "      <td>Nissan</td>\n",
       "      <td>White</td>\n",
       "      <td>31600</td>\n",
       "      <td>4</td>\n",
       "      <td>$9,700.00</td>\n",
       "    </tr>\n",
       "  </tbody>\n",
       "</table>\n",
       "</div>"
      ],
      "text/plain": [
       "     Make Colour  Odometer (KM)  Doors       Price\n",
       "0  Toyota  White         150043      4   $4,000.00\n",
       "1   Honda    Red          87899      4   $5,000.00\n",
       "2  Toyota   Blue          32549      3   $7,000.00\n",
       "3     BMW  Black          11179      5  $22,000.00\n",
       "4  Nissan  White         213095      4   $3,500.00\n",
       "5  Toyota  Green          99213      4   $4,500.00\n",
       "6   Honda   Blue          45698      4   $7,500.00\n",
       "7   Honda   Blue          54738      4   $7,000.00\n",
       "8  Toyota  White          60000      4   $6,250.00\n",
       "9  Nissan  White          31600      4   $9,700.00"
      ]
     },
     "execution_count": 3,
     "metadata": {},
     "output_type": "execute_result"
    }
   ],
   "source": [
    "# import the cas sales dataset\n",
    "car_sales = pd.read_csv('../data/car-sales.csv')\n",
    "car_sales"
   ]
  },
  {
   "cell_type": "code",
   "execution_count": 4,
   "id": "8086fe53",
   "metadata": {},
   "outputs": [
    {
     "data": {
      "text/html": [
       "<div>\n",
       "<style scoped>\n",
       "    .dataframe tbody tr th:only-of-type {\n",
       "        vertical-align: middle;\n",
       "    }\n",
       "\n",
       "    .dataframe tbody tr th {\n",
       "        vertical-align: top;\n",
       "    }\n",
       "\n",
       "    .dataframe thead th {\n",
       "        text-align: right;\n",
       "    }\n",
       "</style>\n",
       "<table border=\"1\" class=\"dataframe\">\n",
       "  <thead>\n",
       "    <tr style=\"text-align: right;\">\n",
       "      <th></th>\n",
       "      <th>Make</th>\n",
       "      <th>Colour</th>\n",
       "      <th>Odometer (KM)</th>\n",
       "      <th>Doors</th>\n",
       "      <th>Price</th>\n",
       "    </tr>\n",
       "  </thead>\n",
       "  <tbody>\n",
       "    <tr>\n",
       "      <th>0</th>\n",
       "      <td>Toyota</td>\n",
       "      <td>White</td>\n",
       "      <td>150043</td>\n",
       "      <td>4</td>\n",
       "      <td>4000.0</td>\n",
       "    </tr>\n",
       "    <tr>\n",
       "      <th>1</th>\n",
       "      <td>Honda</td>\n",
       "      <td>Red</td>\n",
       "      <td>87899</td>\n",
       "      <td>4</td>\n",
       "      <td>5000.0</td>\n",
       "    </tr>\n",
       "    <tr>\n",
       "      <th>2</th>\n",
       "      <td>Toyota</td>\n",
       "      <td>Blue</td>\n",
       "      <td>32549</td>\n",
       "      <td>3</td>\n",
       "      <td>7000.0</td>\n",
       "    </tr>\n",
       "    <tr>\n",
       "      <th>3</th>\n",
       "      <td>BMW</td>\n",
       "      <td>Black</td>\n",
       "      <td>11179</td>\n",
       "      <td>5</td>\n",
       "      <td>22000.0</td>\n",
       "    </tr>\n",
       "    <tr>\n",
       "      <th>4</th>\n",
       "      <td>Nissan</td>\n",
       "      <td>White</td>\n",
       "      <td>213095</td>\n",
       "      <td>4</td>\n",
       "      <td>3500.0</td>\n",
       "    </tr>\n",
       "    <tr>\n",
       "      <th>5</th>\n",
       "      <td>Toyota</td>\n",
       "      <td>Green</td>\n",
       "      <td>99213</td>\n",
       "      <td>4</td>\n",
       "      <td>4500.0</td>\n",
       "    </tr>\n",
       "    <tr>\n",
       "      <th>6</th>\n",
       "      <td>Honda</td>\n",
       "      <td>Blue</td>\n",
       "      <td>45698</td>\n",
       "      <td>4</td>\n",
       "      <td>7500.0</td>\n",
       "    </tr>\n",
       "    <tr>\n",
       "      <th>7</th>\n",
       "      <td>Honda</td>\n",
       "      <td>Blue</td>\n",
       "      <td>54738</td>\n",
       "      <td>4</td>\n",
       "      <td>7000.0</td>\n",
       "    </tr>\n",
       "    <tr>\n",
       "      <th>8</th>\n",
       "      <td>Toyota</td>\n",
       "      <td>White</td>\n",
       "      <td>60000</td>\n",
       "      <td>4</td>\n",
       "      <td>6250.0</td>\n",
       "    </tr>\n",
       "    <tr>\n",
       "      <th>9</th>\n",
       "      <td>Nissan</td>\n",
       "      <td>White</td>\n",
       "      <td>31600</td>\n",
       "      <td>4</td>\n",
       "      <td>9700.0</td>\n",
       "    </tr>\n",
       "  </tbody>\n",
       "</table>\n",
       "</div>"
      ],
      "text/plain": [
       "     Make Colour  Odometer (KM)  Doors    Price\n",
       "0  Toyota  White         150043      4   4000.0\n",
       "1   Honda    Red          87899      4   5000.0\n",
       "2  Toyota   Blue          32549      3   7000.0\n",
       "3     BMW  Black          11179      5  22000.0\n",
       "4  Nissan  White         213095      4   3500.0\n",
       "5  Toyota  Green          99213      4   4500.0\n",
       "6   Honda   Blue          45698      4   7500.0\n",
       "7   Honda   Blue          54738      4   7000.0\n",
       "8  Toyota  White          60000      4   6250.0\n",
       "9  Nissan  White          31600      4   9700.0"
      ]
     },
     "execution_count": 4,
     "metadata": {},
     "output_type": "execute_result"
    }
   ],
   "source": [
    "# Note that the Price is still in String format thus it willnot be considered as value\n",
    "# thus we need to change it to int or float \n",
    "# first we remove non digits characters frotmthe column price\n",
    "car_sales['Price'] = car_sales['Price'].str.replace('\\D','', regex=True).astype(int)/100\n",
    "car_sales"
   ]
  },
  {
   "cell_type": "code",
   "execution_count": 5,
   "id": "11a44c72",
   "metadata": {},
   "outputs": [
    {
     "data": {
      "text/html": [
       "<div>\n",
       "<style scoped>\n",
       "    .dataframe tbody tr th:only-of-type {\n",
       "        vertical-align: middle;\n",
       "    }\n",
       "\n",
       "    .dataframe tbody tr th {\n",
       "        vertical-align: top;\n",
       "    }\n",
       "\n",
       "    .dataframe thead th {\n",
       "        text-align: right;\n",
       "    }\n",
       "</style>\n",
       "<table border=\"1\" class=\"dataframe\">\n",
       "  <thead>\n",
       "    <tr style=\"text-align: right;\">\n",
       "      <th></th>\n",
       "      <th>Make</th>\n",
       "      <th>Colour</th>\n",
       "      <th>Odometer (KM)</th>\n",
       "      <th>Doors</th>\n",
       "      <th>Price</th>\n",
       "      <th>Total Sales</th>\n",
       "    </tr>\n",
       "  </thead>\n",
       "  <tbody>\n",
       "    <tr>\n",
       "      <th>0</th>\n",
       "      <td>Toyota</td>\n",
       "      <td>White</td>\n",
       "      <td>150043</td>\n",
       "      <td>4</td>\n",
       "      <td>4000.0</td>\n",
       "      <td>4000.0</td>\n",
       "    </tr>\n",
       "    <tr>\n",
       "      <th>1</th>\n",
       "      <td>Honda</td>\n",
       "      <td>Red</td>\n",
       "      <td>87899</td>\n",
       "      <td>4</td>\n",
       "      <td>5000.0</td>\n",
       "      <td>9000.0</td>\n",
       "    </tr>\n",
       "    <tr>\n",
       "      <th>2</th>\n",
       "      <td>Toyota</td>\n",
       "      <td>Blue</td>\n",
       "      <td>32549</td>\n",
       "      <td>3</td>\n",
       "      <td>7000.0</td>\n",
       "      <td>16000.0</td>\n",
       "    </tr>\n",
       "    <tr>\n",
       "      <th>3</th>\n",
       "      <td>BMW</td>\n",
       "      <td>Black</td>\n",
       "      <td>11179</td>\n",
       "      <td>5</td>\n",
       "      <td>22000.0</td>\n",
       "      <td>38000.0</td>\n",
       "    </tr>\n",
       "    <tr>\n",
       "      <th>4</th>\n",
       "      <td>Nissan</td>\n",
       "      <td>White</td>\n",
       "      <td>213095</td>\n",
       "      <td>4</td>\n",
       "      <td>3500.0</td>\n",
       "      <td>41500.0</td>\n",
       "    </tr>\n",
       "    <tr>\n",
       "      <th>5</th>\n",
       "      <td>Toyota</td>\n",
       "      <td>Green</td>\n",
       "      <td>99213</td>\n",
       "      <td>4</td>\n",
       "      <td>4500.0</td>\n",
       "      <td>46000.0</td>\n",
       "    </tr>\n",
       "    <tr>\n",
       "      <th>6</th>\n",
       "      <td>Honda</td>\n",
       "      <td>Blue</td>\n",
       "      <td>45698</td>\n",
       "      <td>4</td>\n",
       "      <td>7500.0</td>\n",
       "      <td>53500.0</td>\n",
       "    </tr>\n",
       "    <tr>\n",
       "      <th>7</th>\n",
       "      <td>Honda</td>\n",
       "      <td>Blue</td>\n",
       "      <td>54738</td>\n",
       "      <td>4</td>\n",
       "      <td>7000.0</td>\n",
       "      <td>60500.0</td>\n",
       "    </tr>\n",
       "    <tr>\n",
       "      <th>8</th>\n",
       "      <td>Toyota</td>\n",
       "      <td>White</td>\n",
       "      <td>60000</td>\n",
       "      <td>4</td>\n",
       "      <td>6250.0</td>\n",
       "      <td>66750.0</td>\n",
       "    </tr>\n",
       "    <tr>\n",
       "      <th>9</th>\n",
       "      <td>Nissan</td>\n",
       "      <td>White</td>\n",
       "      <td>31600</td>\n",
       "      <td>4</td>\n",
       "      <td>9700.0</td>\n",
       "      <td>76450.0</td>\n",
       "    </tr>\n",
       "  </tbody>\n",
       "</table>\n",
       "</div>"
      ],
      "text/plain": [
       "     Make Colour  Odometer (KM)  Doors    Price  Total Sales\n",
       "0  Toyota  White         150043      4   4000.0       4000.0\n",
       "1   Honda    Red          87899      4   5000.0       9000.0\n",
       "2  Toyota   Blue          32549      3   7000.0      16000.0\n",
       "3     BMW  Black          11179      5  22000.0      38000.0\n",
       "4  Nissan  White         213095      4   3500.0      41500.0\n",
       "5  Toyota  Green          99213      4   4500.0      46000.0\n",
       "6   Honda   Blue          45698      4   7500.0      53500.0\n",
       "7   Honda   Blue          54738      4   7000.0      60500.0\n",
       "8  Toyota  White          60000      4   6250.0      66750.0\n",
       "9  Nissan  White          31600      4   9700.0      76450.0"
      ]
     },
     "execution_count": 5,
     "metadata": {},
     "output_type": "execute_result"
    }
   ],
   "source": [
    "# let's make a new column for total sales:\n",
    "car_sales['Total Sales'] = car_sales['Price'].cumsum()\n",
    "car_sales"
   ]
  },
  {
   "cell_type": "code",
   "execution_count": 6,
   "id": "33dcd06a",
   "metadata": {},
   "outputs": [
    {
     "data": {
      "text/html": [
       "<div>\n",
       "<style scoped>\n",
       "    .dataframe tbody tr th:only-of-type {\n",
       "        vertical-align: middle;\n",
       "    }\n",
       "\n",
       "    .dataframe tbody tr th {\n",
       "        vertical-align: top;\n",
       "    }\n",
       "\n",
       "    .dataframe thead th {\n",
       "        text-align: right;\n",
       "    }\n",
       "</style>\n",
       "<table border=\"1\" class=\"dataframe\">\n",
       "  <thead>\n",
       "    <tr style=\"text-align: right;\">\n",
       "      <th></th>\n",
       "      <th>Make</th>\n",
       "      <th>Colour</th>\n",
       "      <th>Odometer (KM)</th>\n",
       "      <th>Doors</th>\n",
       "      <th>Price</th>\n",
       "      <th>Total Sales</th>\n",
       "      <th>Sale Date</th>\n",
       "    </tr>\n",
       "  </thead>\n",
       "  <tbody>\n",
       "    <tr>\n",
       "      <th>0</th>\n",
       "      <td>Toyota</td>\n",
       "      <td>White</td>\n",
       "      <td>150043</td>\n",
       "      <td>4</td>\n",
       "      <td>4000.0</td>\n",
       "      <td>4000.0</td>\n",
       "      <td>2020-01-01</td>\n",
       "    </tr>\n",
       "    <tr>\n",
       "      <th>1</th>\n",
       "      <td>Honda</td>\n",
       "      <td>Red</td>\n",
       "      <td>87899</td>\n",
       "      <td>4</td>\n",
       "      <td>5000.0</td>\n",
       "      <td>9000.0</td>\n",
       "      <td>2020-01-02</td>\n",
       "    </tr>\n",
       "    <tr>\n",
       "      <th>2</th>\n",
       "      <td>Toyota</td>\n",
       "      <td>Blue</td>\n",
       "      <td>32549</td>\n",
       "      <td>3</td>\n",
       "      <td>7000.0</td>\n",
       "      <td>16000.0</td>\n",
       "      <td>2020-01-03</td>\n",
       "    </tr>\n",
       "    <tr>\n",
       "      <th>3</th>\n",
       "      <td>BMW</td>\n",
       "      <td>Black</td>\n",
       "      <td>11179</td>\n",
       "      <td>5</td>\n",
       "      <td>22000.0</td>\n",
       "      <td>38000.0</td>\n",
       "      <td>2020-01-04</td>\n",
       "    </tr>\n",
       "    <tr>\n",
       "      <th>4</th>\n",
       "      <td>Nissan</td>\n",
       "      <td>White</td>\n",
       "      <td>213095</td>\n",
       "      <td>4</td>\n",
       "      <td>3500.0</td>\n",
       "      <td>41500.0</td>\n",
       "      <td>2020-01-05</td>\n",
       "    </tr>\n",
       "    <tr>\n",
       "      <th>5</th>\n",
       "      <td>Toyota</td>\n",
       "      <td>Green</td>\n",
       "      <td>99213</td>\n",
       "      <td>4</td>\n",
       "      <td>4500.0</td>\n",
       "      <td>46000.0</td>\n",
       "      <td>2020-01-06</td>\n",
       "    </tr>\n",
       "    <tr>\n",
       "      <th>6</th>\n",
       "      <td>Honda</td>\n",
       "      <td>Blue</td>\n",
       "      <td>45698</td>\n",
       "      <td>4</td>\n",
       "      <td>7500.0</td>\n",
       "      <td>53500.0</td>\n",
       "      <td>2020-01-07</td>\n",
       "    </tr>\n",
       "    <tr>\n",
       "      <th>7</th>\n",
       "      <td>Honda</td>\n",
       "      <td>Blue</td>\n",
       "      <td>54738</td>\n",
       "      <td>4</td>\n",
       "      <td>7000.0</td>\n",
       "      <td>60500.0</td>\n",
       "      <td>2020-01-08</td>\n",
       "    </tr>\n",
       "    <tr>\n",
       "      <th>8</th>\n",
       "      <td>Toyota</td>\n",
       "      <td>White</td>\n",
       "      <td>60000</td>\n",
       "      <td>4</td>\n",
       "      <td>6250.0</td>\n",
       "      <td>66750.0</td>\n",
       "      <td>2020-01-09</td>\n",
       "    </tr>\n",
       "    <tr>\n",
       "      <th>9</th>\n",
       "      <td>Nissan</td>\n",
       "      <td>White</td>\n",
       "      <td>31600</td>\n",
       "      <td>4</td>\n",
       "      <td>9700.0</td>\n",
       "      <td>76450.0</td>\n",
       "      <td>2020-01-10</td>\n",
       "    </tr>\n",
       "  </tbody>\n",
       "</table>\n",
       "</div>"
      ],
      "text/plain": [
       "     Make Colour  Odometer (KM)  Doors    Price  Total Sales  Sale Date\n",
       "0  Toyota  White         150043      4   4000.0       4000.0 2020-01-01\n",
       "1   Honda    Red          87899      4   5000.0       9000.0 2020-01-02\n",
       "2  Toyota   Blue          32549      3   7000.0      16000.0 2020-01-03\n",
       "3     BMW  Black          11179      5  22000.0      38000.0 2020-01-04\n",
       "4  Nissan  White         213095      4   3500.0      41500.0 2020-01-05\n",
       "5  Toyota  Green          99213      4   4500.0      46000.0 2020-01-06\n",
       "6   Honda   Blue          45698      4   7500.0      53500.0 2020-01-07\n",
       "7   Honda   Blue          54738      4   7000.0      60500.0 2020-01-08\n",
       "8  Toyota  White          60000      4   6250.0      66750.0 2020-01-09\n",
       "9  Nissan  White          31600      4   9700.0      76450.0 2020-01-10"
      ]
     },
     "execution_count": 6,
     "metadata": {},
     "output_type": "execute_result"
    }
   ],
   "source": [
    "# let's simulate this as date of sales\n",
    "car_sales[\"Sale Date\"] = pd.date_range('1/1/2020', periods=len(car_sales))\n",
    "car_sales"
   ]
  },
  {
   "cell_type": "markdown",
   "id": "474de2c5",
   "metadata": {},
   "source": [
    "### Now to make plot on pandas data frame we can just address the data frame to plot function \n",
    "Note: as long as we already import matplotlib.pyplot. \n",
    "Thus we can just call it just like making other plot "
   ]
  },
  {
   "cell_type": "code",
   "execution_count": 7,
   "id": "54a93ffc",
   "metadata": {},
   "outputs": [
    {
     "data": {
      "image/png": "[encoded data removed]",
      "text/plain": [
       "<Figure size 432x288 with 1 Axes>"
      ]
     },
     "metadata": {
      "needs_background": "light"
     },
     "output_type": "display_data"
    }
   ],
   "source": [
    "# now let's try to plot sale date as x axis and total sales as y axis\n",
    "car_sales.plot(x='Sale Date', y='Total Sales', kind='bar');"
   ]
  },
  {
   "cell_type": "markdown",
   "id": "b5d23342",
   "metadata": {},
   "source": [
    "#### pandas.dataframe.plot() function => https://pandas.pydata.org/pandas-docs/stable/reference/api/pandas.DataFrame.plot.html\n",
    "\n",
    " DataFrame.plot(*args, **kwargs)[source]\n",
    "\n",
    "    Make plots of Series or DataFrame.\n",
    "\n",
    "    Uses the backend specified by the option plotting.backend. By default, matplotlib is used.\n",
    "\n",
    "    Parameters\n",
    "\n",
    "        dataSeries or DataFrame\n",
    "\n",
    "         x   The object for which the method is called.\n",
    "        xlabel or position, default None\n",
    "\n",
    "          y Only used if data is a DataFrame.\n",
    "        ylabel, position or list of label, positions, default None\n",
    "\n",
    "            Allows plotting of one column versus another. Only used if data is a DataFrame.\n",
    "        kindstr\n",
    "\n",
    "            The kind of plot to produce:\n",
    "\n",
    "                ‘line’ : line plot (default)\n",
    "\n",
    "                ‘bar’ : vertical bar plot\n",
    "                \n",
    "                'barh' : horizontal bar'"
   ]
  },
  {
   "cell_type": "markdown",
   "id": "ac96c26f",
   "metadata": {},
   "source": [
    "### Now let's try to make car sales odometer and price in scatter type chart\n"
   ]
  },
  {
   "cell_type": "code",
   "execution_count": 8,
   "id": "fea6ea7f",
   "metadata": {},
   "outputs": [
    {
     "data": {
      "image/png": "[encoded data removed]",
      "text/plain": [
       "<Figure size 432x288 with 1 Axes>"
      ]
     },
     "metadata": {
      "needs_background": "light"
     },
     "output_type": "display_data"
    }
   ],
   "source": [
    "car_sales.plot(x='Odometer (KM)', y='Price', kind=\"scatter\");"
   ]
  },
  {
   "cell_type": "code",
   "execution_count": 9,
   "id": "fd7aa22b",
   "metadata": {},
   "outputs": [
    {
     "data": {
      "image/png": "[encoded data removed]",
      "text/plain": [
       "<Figure size 432x288 with 1 Axes>"
      ]
     },
     "metadata": {
      "needs_background": "light"
     },
     "output_type": "display_data"
    }
   ],
   "source": [
    "car_sales.plot(x='Odometer (KM)', y='Price', kind=\"bar\");"
   ]
  },
  {
   "cell_type": "markdown",
   "id": "7d2b5c8b",
   "metadata": {},
   "source": [
    "#### WARNING: SEE HOW THE BAR AND SCATTER SEEMS NOT IN SYNC TO THE DATA?\n",
    "\n",
    "This is not a mistake!! This is because scatter will have axes of values in the same interval starts from 0 to min or max!!\n",
    "\n",
    "Meanwhile the Bar chart does not have this, Bar chart will just plot in accordance how the data is written in the dataframe.\n",
    "\n",
    "We can do similar but that means we need to make the dataframe sort according to the odometer KM ascending."
   ]
  },
  {
   "cell_type": "code",
   "execution_count": 10,
   "id": "9d9bf981",
   "metadata": {},
   "outputs": [
    {
     "data": {
      "image/png": "[encoded data removed]",
      "text/plain": [
       "<Figure size 432x288 with 1 Axes>"
      ]
     },
     "metadata": {
      "needs_background": "light"
     },
     "output_type": "display_data"
    }
   ],
   "source": [
    "# Here the example on how to make the bar chart more like scatter \n",
    "# after sorting the car_sales dataframe according to Odomenter (KM)\n",
    "car_sales.sort_values(by=\"Odometer (KM)\").plot(x='Odometer (KM)', y='Price', kind=\"bar\");"
   ]
  },
  {
   "cell_type": "markdown",
   "id": "6266a05b",
   "metadata": {},
   "source": [
    "### BAR\n",
    "1. concept\n",
    "1. DataFrame"
   ]
  },
  {
   "cell_type": "code",
   "execution_count": 11,
   "id": "83460ff5",
   "metadata": {},
   "outputs": [
    {
     "data": {
      "text/plain": [
       "array([[0.86264209, 0.1208218 , 0.00715653, 0.69298354],\n",
       "       [0.64270066, 0.76499148, 0.93865911, 0.28369606],\n",
       "       [0.62359962, 0.69099875, 0.90923455, 0.91503167],\n",
       "       [0.65466084, 0.50531737, 0.07804061, 0.99204194],\n",
       "       [0.08307387, 0.06292308, 0.10669515, 0.20795754],\n",
       "       [0.35625743, 0.71584821, 0.08193625, 0.21084431],\n",
       "       [0.96073908, 0.60697296, 0.04800374, 0.8844677 ],\n",
       "       [0.94519077, 0.66180767, 0.61990509, 0.53269591],\n",
       "       [0.75343554, 0.38536276, 0.75037312, 0.11344588],\n",
       "       [0.12668633, 0.54549545, 0.99551988, 0.29308133]])"
      ]
     },
     "execution_count": 11,
     "metadata": {},
     "output_type": "execute_result"
    }
   ],
   "source": [
    "# let's make random data.\n",
    "# we make random numbers array with shape (10,4)\n",
    "data_random = np.random.rand(10,4)\n",
    "data_random"
   ]
  },
  {
   "cell_type": "code",
   "execution_count": 12,
   "id": "2e8b8cd3",
   "metadata": {},
   "outputs": [
    {
     "data": {
      "text/html": [
       "<div>\n",
       "<style scoped>\n",
       "    .dataframe tbody tr th:only-of-type {\n",
       "        vertical-align: middle;\n",
       "    }\n",
       "\n",
       "    .dataframe tbody tr th {\n",
       "        vertical-align: top;\n",
       "    }\n",
       "\n",
       "    .dataframe thead th {\n",
       "        text-align: right;\n",
       "    }\n",
       "</style>\n",
       "<table border=\"1\" class=\"dataframe\">\n",
       "  <thead>\n",
       "    <tr style=\"text-align: right;\">\n",
       "      <th></th>\n",
       "      <th>a</th>\n",
       "      <th>b</th>\n",
       "      <th>c</th>\n",
       "      <th>d</th>\n",
       "    </tr>\n",
       "  </thead>\n",
       "  <tbody>\n",
       "    <tr>\n",
       "      <th>0</th>\n",
       "      <td>0.862642</td>\n",
       "      <td>0.120822</td>\n",
       "      <td>0.007157</td>\n",
       "      <td>0.692984</td>\n",
       "    </tr>\n",
       "    <tr>\n",
       "      <th>1</th>\n",
       "      <td>0.642701</td>\n",
       "      <td>0.764991</td>\n",
       "      <td>0.938659</td>\n",
       "      <td>0.283696</td>\n",
       "    </tr>\n",
       "    <tr>\n",
       "      <th>2</th>\n",
       "      <td>0.623600</td>\n",
       "      <td>0.690999</td>\n",
       "      <td>0.909235</td>\n",
       "      <td>0.915032</td>\n",
       "    </tr>\n",
       "    <tr>\n",
       "      <th>3</th>\n",
       "      <td>0.654661</td>\n",
       "      <td>0.505317</td>\n",
       "      <td>0.078041</td>\n",
       "      <td>0.992042</td>\n",
       "    </tr>\n",
       "    <tr>\n",
       "      <th>4</th>\n",
       "      <td>0.083074</td>\n",
       "      <td>0.062923</td>\n",
       "      <td>0.106695</td>\n",
       "      <td>0.207958</td>\n",
       "    </tr>\n",
       "    <tr>\n",
       "      <th>5</th>\n",
       "      <td>0.356257</td>\n",
       "      <td>0.715848</td>\n",
       "      <td>0.081936</td>\n",
       "      <td>0.210844</td>\n",
       "    </tr>\n",
       "    <tr>\n",
       "      <th>6</th>\n",
       "      <td>0.960739</td>\n",
       "      <td>0.606973</td>\n",
       "      <td>0.048004</td>\n",
       "      <td>0.884468</td>\n",
       "    </tr>\n",
       "    <tr>\n",
       "      <th>7</th>\n",
       "      <td>0.945191</td>\n",
       "      <td>0.661808</td>\n",
       "      <td>0.619905</td>\n",
       "      <td>0.532696</td>\n",
       "    </tr>\n",
       "    <tr>\n",
       "      <th>8</th>\n",
       "      <td>0.753436</td>\n",
       "      <td>0.385363</td>\n",
       "      <td>0.750373</td>\n",
       "      <td>0.113446</td>\n",
       "    </tr>\n",
       "    <tr>\n",
       "      <th>9</th>\n",
       "      <td>0.126686</td>\n",
       "      <td>0.545495</td>\n",
       "      <td>0.995520</td>\n",
       "      <td>0.293081</td>\n",
       "    </tr>\n",
       "  </tbody>\n",
       "</table>\n",
       "</div>"
      ],
      "text/plain": [
       "          a         b         c         d\n",
       "0  0.862642  0.120822  0.007157  0.692984\n",
       "1  0.642701  0.764991  0.938659  0.283696\n",
       "2  0.623600  0.690999  0.909235  0.915032\n",
       "3  0.654661  0.505317  0.078041  0.992042\n",
       "4  0.083074  0.062923  0.106695  0.207958\n",
       "5  0.356257  0.715848  0.081936  0.210844\n",
       "6  0.960739  0.606973  0.048004  0.884468\n",
       "7  0.945191  0.661808  0.619905  0.532696\n",
       "8  0.753436  0.385363  0.750373  0.113446\n",
       "9  0.126686  0.545495  0.995520  0.293081"
      ]
     },
     "execution_count": 12,
     "metadata": {},
     "output_type": "execute_result"
    }
   ],
   "source": [
    "# transform it into dataframe using pandas\n",
    "df_random = pd.DataFrame(data_random, columns=['a', 'b','c','d'])\n",
    "df_random"
   ]
  },
  {
   "cell_type": "code",
   "execution_count": 16,
   "id": "d680fc61",
   "metadata": {},
   "outputs": [
    {
     "data": {
      "image/png": "[encoded data removed]",
      "text/plain": [
       "<Figure size 432x288 with 1 Axes>"
      ]
     },
     "metadata": {
      "needs_background": "light"
     },
     "output_type": "display_data"
    }
   ],
   "source": [
    "#  DataFrame.plot(*args, **kwargs)[source]\n",
    "\n",
    "#     Make plots of Series or DataFrame.\n",
    "\n",
    "#     Uses the backend specified by the option plotting.backend. By default, matplotlib is used.\n",
    "\n",
    "#     Parameters\n",
    "\n",
    "#         dataSeries or DataFrame\n",
    "\n",
    "#             The object for which the method is called.\n",
    "#         xlabel or position, default None\n",
    "\n",
    "#             Only used if data is a DataFrame.\n",
    "#         ylabel, position or list of label, positions, default None\n",
    "\n",
    "#             Allows plotting of one column versus another. Only used if data is a DataFrame.\n",
    "#         kindstr\n",
    "df_random.plot(kind='bar');"
   ]
  },
  {
   "cell_type": "code",
   "execution_count": 17,
   "id": "b128f5b2",
   "metadata": {},
   "outputs": [
    {
     "data": {
      "text/html": [
       "<div>\n",
       "<style scoped>\n",
       "    .dataframe tbody tr th:only-of-type {\n",
       "        vertical-align: middle;\n",
       "    }\n",
       "\n",
       "    .dataframe tbody tr th {\n",
       "        vertical-align: top;\n",
       "    }\n",
       "\n",
       "    .dataframe thead th {\n",
       "        text-align: right;\n",
       "    }\n",
       "</style>\n",
       "<table border=\"1\" class=\"dataframe\">\n",
       "  <thead>\n",
       "    <tr style=\"text-align: right;\">\n",
       "      <th></th>\n",
       "      <th>Make</th>\n",
       "      <th>Colour</th>\n",
       "      <th>Odometer (KM)</th>\n",
       "      <th>Doors</th>\n",
       "      <th>Price</th>\n",
       "      <th>Total Sales</th>\n",
       "      <th>Sale Date</th>\n",
       "    </tr>\n",
       "  </thead>\n",
       "  <tbody>\n",
       "    <tr>\n",
       "      <th>0</th>\n",
       "      <td>Toyota</td>\n",
       "      <td>White</td>\n",
       "      <td>150043</td>\n",
       "      <td>4</td>\n",
       "      <td>4000.0</td>\n",
       "      <td>4000.0</td>\n",
       "      <td>2020-01-01</td>\n",
       "    </tr>\n",
       "    <tr>\n",
       "      <th>1</th>\n",
       "      <td>Honda</td>\n",
       "      <td>Red</td>\n",
       "      <td>87899</td>\n",
       "      <td>4</td>\n",
       "      <td>5000.0</td>\n",
       "      <td>9000.0</td>\n",
       "      <td>2020-01-02</td>\n",
       "    </tr>\n",
       "    <tr>\n",
       "      <th>2</th>\n",
       "      <td>Toyota</td>\n",
       "      <td>Blue</td>\n",
       "      <td>32549</td>\n",
       "      <td>3</td>\n",
       "      <td>7000.0</td>\n",
       "      <td>16000.0</td>\n",
       "      <td>2020-01-03</td>\n",
       "    </tr>\n",
       "    <tr>\n",
       "      <th>3</th>\n",
       "      <td>BMW</td>\n",
       "      <td>Black</td>\n",
       "      <td>11179</td>\n",
       "      <td>5</td>\n",
       "      <td>22000.0</td>\n",
       "      <td>38000.0</td>\n",
       "      <td>2020-01-04</td>\n",
       "    </tr>\n",
       "    <tr>\n",
       "      <th>4</th>\n",
       "      <td>Nissan</td>\n",
       "      <td>White</td>\n",
       "      <td>213095</td>\n",
       "      <td>4</td>\n",
       "      <td>3500.0</td>\n",
       "      <td>41500.0</td>\n",
       "      <td>2020-01-05</td>\n",
       "    </tr>\n",
       "    <tr>\n",
       "      <th>5</th>\n",
       "      <td>Toyota</td>\n",
       "      <td>Green</td>\n",
       "      <td>99213</td>\n",
       "      <td>4</td>\n",
       "      <td>4500.0</td>\n",
       "      <td>46000.0</td>\n",
       "      <td>2020-01-06</td>\n",
       "    </tr>\n",
       "    <tr>\n",
       "      <th>6</th>\n",
       "      <td>Honda</td>\n",
       "      <td>Blue</td>\n",
       "      <td>45698</td>\n",
       "      <td>4</td>\n",
       "      <td>7500.0</td>\n",
       "      <td>53500.0</td>\n",
       "      <td>2020-01-07</td>\n",
       "    </tr>\n",
       "    <tr>\n",
       "      <th>7</th>\n",
       "      <td>Honda</td>\n",
       "      <td>Blue</td>\n",
       "      <td>54738</td>\n",
       "      <td>4</td>\n",
       "      <td>7000.0</td>\n",
       "      <td>60500.0</td>\n",
       "      <td>2020-01-08</td>\n",
       "    </tr>\n",
       "    <tr>\n",
       "      <th>8</th>\n",
       "      <td>Toyota</td>\n",
       "      <td>White</td>\n",
       "      <td>60000</td>\n",
       "      <td>4</td>\n",
       "      <td>6250.0</td>\n",
       "      <td>66750.0</td>\n",
       "      <td>2020-01-09</td>\n",
       "    </tr>\n",
       "    <tr>\n",
       "      <th>9</th>\n",
       "      <td>Nissan</td>\n",
       "      <td>White</td>\n",
       "      <td>31600</td>\n",
       "      <td>4</td>\n",
       "      <td>9700.0</td>\n",
       "      <td>76450.0</td>\n",
       "      <td>2020-01-10</td>\n",
       "    </tr>\n",
       "  </tbody>\n",
       "</table>\n",
       "</div>"
      ],
      "text/plain": [
       "     Make Colour  Odometer (KM)  Doors    Price  Total Sales  Sale Date\n",
       "0  Toyota  White         150043      4   4000.0       4000.0 2020-01-01\n",
       "1   Honda    Red          87899      4   5000.0       9000.0 2020-01-02\n",
       "2  Toyota   Blue          32549      3   7000.0      16000.0 2020-01-03\n",
       "3     BMW  Black          11179      5  22000.0      38000.0 2020-01-04\n",
       "4  Nissan  White         213095      4   3500.0      41500.0 2020-01-05\n",
       "5  Toyota  Green          99213      4   4500.0      46000.0 2020-01-06\n",
       "6   Honda   Blue          45698      4   7500.0      53500.0 2020-01-07\n",
       "7   Honda   Blue          54738      4   7000.0      60500.0 2020-01-08\n",
       "8  Toyota  White          60000      4   6250.0      66750.0 2020-01-09\n",
       "9  Nissan  White          31600      4   9700.0      76450.0 2020-01-10"
      ]
     },
     "execution_count": 17,
     "metadata": {},
     "output_type": "execute_result"
    }
   ],
   "source": [
    "## Now we make bar chart with existing data frame car sales\n",
    "## this time we will set x axis to Make\n",
    "## and y axis to Odometer (KM)\n",
    "car_sales"
   ]
  },
  {
   "cell_type": "code",
   "execution_count": 19,
   "id": "c5f50902",
   "metadata": {},
   "outputs": [
    {
     "data": {
      "image/png": "[encoded data removed]",
      "text/plain": [
       "<Figure size 432x288 with 1 Axes>"
      ]
     },
     "metadata": {
      "needs_background": "light"
     },
     "output_type": "display_data"
    }
   ],
   "source": [
    "# pandas.DataFrame.plot\n",
    "car_sales.plot(kind='bar', x='Make', y='Odometer (KM)');"
   ]
  },
  {
   "cell_type": "markdown",
   "id": "352ae6bd",
   "metadata": {},
   "source": [
    "#### NOTE:\n",
    "I tend to make mistakes of not using ';' in the end of Matplotlib and Pandas plot function.\n",
    "\n",
    "**REMEMBER** : THE ';' MAKES THE PLOT RESULT NON ADDRESS ARRAY "
   ]
  },
  {
   "cell_type": "code",
   "execution_count": 22,
   "id": "f23ca782",
   "metadata": {},
   "outputs": [
    {
     "data": {
      "image/png": "[encoded data removed]",
      "text/plain": [
       "<Figure size 432x288 with 6 Axes>"
      ]
     },
     "metadata": {
      "needs_background": "light"
     },
     "output_type": "display_data"
    }
   ],
   "source": [
    "# Histogram\n",
    "# let's make histogram for Odometer (KM)\n",
    "# This is different than making plot from other dataframe\n",
    "# pandas.DataFrame.hist link: https://pandas.pydata.org/pandas-docs/stable/reference/api/pandas.DataFrame.hist.html\n",
    "car_sales.hist();"
   ]
  },
  {
   "cell_type": "markdown",
   "id": "f2a7c158",
   "metadata": {},
   "source": [
    "#### NOTE:\n",
    "This is too much data right? Well this is because we make histogram of all data in car_sales. I need to be more specific!\n",
    "\n",
    "I need the histogram of the Odometer(KM). Remember car_sales['Odometer(KM)'] is also dataFrame as part of larger car_sales dataframe."
   ]
  },
  {
   "cell_type": "code",
   "execution_count": 24,
   "id": "d865119c",
   "metadata": {},
   "outputs": [
    {
     "data": {
      "image/png": "[encoded data removed]",
      "text/plain": [
       "<Figure size 432x288 with 1 Axes>"
      ]
     },
     "metadata": {
      "needs_background": "light"
     },
     "output_type": "display_data"
    }
   ],
   "source": [
    "# we make specific histrogram for car_sales' Odometer (KM)\n",
    "car_sales['Odometer (KM)'].hist();"
   ]
  },
  {
   "cell_type": "code",
   "execution_count": 25,
   "id": "a4322e9f",
   "metadata": {},
   "outputs": [
    {
     "data": {
      "image/png": "[encoded data removed]",
      "text/plain": [
       "<Figure size 432x288 with 1 Axes>"
      ]
     },
     "metadata": {
      "needs_background": "light"
     },
     "output_type": "display_data"
    }
   ],
   "source": [
    "# use the alternative using plot.hist()\n",
    "car_sales['Odometer (KM)'].plot.hist();"
   ]
  },
  {
   "cell_type": "code",
   "execution_count": 26,
   "id": "cd4be3da",
   "metadata": {},
   "outputs": [
    {
     "data": {
      "image/png": "[encoded data removed]",
      "text/plain": [
       "<Figure size 432x288 with 1 Axes>"
      ]
     },
     "metadata": {
      "needs_background": "light"
     },
     "output_type": "display_data"
    }
   ],
   "source": [
    "# this is another format of plot histogram.\n",
    "car_sales['Odometer (KM)'].plot(kind='hist');"
   ]
  },
  {
   "cell_type": "markdown",
   "id": "88382b83",
   "metadata": {},
   "source": [
    "#### NOTE:\n",
    "The dataFrame.hist() result's has grid by default, the plot on both method plot.hist() and plot(kind='hist') will result plain plot. This can have grid is set by the ax (axis) properties.\n",
    "\n",
    "But what is the different between plot.hist() vs plot(kind='hist')?\n",
    "\n",
    "Well here hist function have further setting related specific to histogram. The most notable is bins. Which set the number of histogram bars. This also available when using the dataFrame.hist() directly not using plot module."
   ]
  },
  {
   "cell_type": "code",
   "execution_count": 27,
   "id": "09ac1a80",
   "metadata": {},
   "outputs": [
    {
     "data": {
      "image/png": "[encoded data removed]",
      "text/plain": [
       "<Figure size 432x288 with 1 Axes>"
      ]
     },
     "metadata": {
      "needs_background": "light"
     },
     "output_type": "display_data"
    }
   ],
   "source": [
    "# Make Odometer histogram with different bins\n",
    "car_sales['Odometer (KM)'].plot.hist(bins=20);"
   ]
  },
  {
   "cell_type": "markdown",
   "id": "c4450079",
   "metadata": {},
   "source": [
    "### WE USE NEW DATA FRAME HEART DESEASE\n",
    "heart desease have many Rows thus it will a good test on the Pandas and plot to process the whole data frame"
   ]
  },
  {
   "cell_type": "code",
   "execution_count": 28,
   "id": "87fe0189",
   "metadata": {},
   "outputs": [
    {
     "data": {
      "text/html": [
       "<div>\n",
       "<style scoped>\n",
       "    .dataframe tbody tr th:only-of-type {\n",
       "        vertical-align: middle;\n",
       "    }\n",
       "\n",
       "    .dataframe tbody tr th {\n",
       "        vertical-align: top;\n",
       "    }\n",
       "\n",
       "    .dataframe thead th {\n",
       "        text-align: right;\n",
       "    }\n",
       "</style>\n",
       "<table border=\"1\" class=\"dataframe\">\n",
       "  <thead>\n",
       "    <tr style=\"text-align: right;\">\n",
       "      <th></th>\n",
       "      <th>age</th>\n",
       "      <th>sex</th>\n",
       "      <th>cp</th>\n",
       "      <th>trestbps</th>\n",
       "      <th>chol</th>\n",
       "      <th>fbs</th>\n",
       "      <th>restecg</th>\n",
       "      <th>thalach</th>\n",
       "      <th>exang</th>\n",
       "      <th>oldpeak</th>\n",
       "      <th>slope</th>\n",
       "      <th>ca</th>\n",
       "      <th>thal</th>\n",
       "      <th>target</th>\n",
       "    </tr>\n",
       "  </thead>\n",
       "  <tbody>\n",
       "    <tr>\n",
       "      <th>0</th>\n",
       "      <td>63</td>\n",
       "      <td>1</td>\n",
       "      <td>3</td>\n",
       "      <td>145</td>\n",
       "      <td>233</td>\n",
       "      <td>1</td>\n",
       "      <td>0</td>\n",
       "      <td>150</td>\n",
       "      <td>0</td>\n",
       "      <td>2.3</td>\n",
       "      <td>0</td>\n",
       "      <td>0</td>\n",
       "      <td>1</td>\n",
       "      <td>1</td>\n",
       "    </tr>\n",
       "    <tr>\n",
       "      <th>1</th>\n",
       "      <td>37</td>\n",
       "      <td>1</td>\n",
       "      <td>2</td>\n",
       "      <td>130</td>\n",
       "      <td>250</td>\n",
       "      <td>0</td>\n",
       "      <td>1</td>\n",
       "      <td>187</td>\n",
       "      <td>0</td>\n",
       "      <td>3.5</td>\n",
       "      <td>0</td>\n",
       "      <td>0</td>\n",
       "      <td>2</td>\n",
       "      <td>1</td>\n",
       "    </tr>\n",
       "    <tr>\n",
       "      <th>2</th>\n",
       "      <td>41</td>\n",
       "      <td>0</td>\n",
       "      <td>1</td>\n",
       "      <td>130</td>\n",
       "      <td>204</td>\n",
       "      <td>0</td>\n",
       "      <td>0</td>\n",
       "      <td>172</td>\n",
       "      <td>0</td>\n",
       "      <td>1.4</td>\n",
       "      <td>2</td>\n",
       "      <td>0</td>\n",
       "      <td>2</td>\n",
       "      <td>1</td>\n",
       "    </tr>\n",
       "    <tr>\n",
       "      <th>3</th>\n",
       "      <td>56</td>\n",
       "      <td>1</td>\n",
       "      <td>1</td>\n",
       "      <td>120</td>\n",
       "      <td>236</td>\n",
       "      <td>0</td>\n",
       "      <td>1</td>\n",
       "      <td>178</td>\n",
       "      <td>0</td>\n",
       "      <td>0.8</td>\n",
       "      <td>2</td>\n",
       "      <td>0</td>\n",
       "      <td>2</td>\n",
       "      <td>1</td>\n",
       "    </tr>\n",
       "    <tr>\n",
       "      <th>4</th>\n",
       "      <td>57</td>\n",
       "      <td>0</td>\n",
       "      <td>0</td>\n",
       "      <td>120</td>\n",
       "      <td>354</td>\n",
       "      <td>0</td>\n",
       "      <td>1</td>\n",
       "      <td>163</td>\n",
       "      <td>1</td>\n",
       "      <td>0.6</td>\n",
       "      <td>2</td>\n",
       "      <td>0</td>\n",
       "      <td>2</td>\n",
       "      <td>1</td>\n",
       "    </tr>\n",
       "  </tbody>\n",
       "</table>\n",
       "</div>"
      ],
      "text/plain": [
       "   age  sex  cp  trestbps  chol  fbs  restecg  thalach  exang  oldpeak  slope  \\\n",
       "0   63    1   3       145   233    1        0      150      0      2.3      0   \n",
       "1   37    1   2       130   250    0        1      187      0      3.5      0   \n",
       "2   41    0   1       130   204    0        0      172      0      1.4      2   \n",
       "3   56    1   1       120   236    0        1      178      0      0.8      2   \n",
       "4   57    0   0       120   354    0        1      163      1      0.6      2   \n",
       "\n",
       "   ca  thal  target  \n",
       "0   0     1       1  \n",
       "1   0     2       1  \n",
       "2   0     2       1  \n",
       "3   0     2       1  \n",
       "4   0     2       1  "
      ]
     },
     "execution_count": 28,
     "metadata": {},
     "output_type": "execute_result"
    }
   ],
   "source": [
    "## Import the dataFrame\n",
    "heart_disease = pd.read_csv('../data/heart-disease.csv')\n",
    "\n",
    "## now let's confirm the read is success.\n",
    "# but since the data is so big we will inspect the head of the dataFrame.\n",
    "heart_disease.head()"
   ]
  },
  {
   "cell_type": "markdown",
   "id": "14182e13",
   "metadata": {},
   "source": [
    "#### Note:\n",
    "This is the dataFrame with many columns. If we directly use heart_disease.hist() it will be too much\n",
    "\n",
    "We will focus on one data column. From the head of the dataFrame looks like the most spreaded data is age.\n",
    "\n",
    "Let's see the histogram of the age in heart_disease dataFrame."
   ]
  },
  {
   "cell_type": "code",
   "execution_count": 29,
   "id": "b14377bf",
   "metadata": {},
   "outputs": [
    {
     "data": {
      "image/png": "[encoded data removed]",
      "text/plain": [
       "<Figure size 432x288 with 1 Axes>"
      ]
     },
     "metadata": {
      "needs_background": "light"
     },
     "output_type": "display_data"
    }
   ],
   "source": [
    "## making histogram for heart_desease age samples.\n",
    "heart_disease['age'].plot.hist();"
   ]
  },
  {
   "cell_type": "markdown",
   "id": "03a833fd",
   "metadata": {},
   "source": [
    "#### NOTE:\n",
    "This is the histogram using the standard bins = 10. \n",
    "\n",
    "bins is the number of bar in the histogram in respect of the whole data range.\n",
    "\n",
    "bins = (max value - min value)/bin_width.\n",
    "Thus as we set the number of bins (bins) then the width of each bin = bin_width = (max value - min value)/bins"
   ]
  },
  {
   "cell_type": "code",
   "execution_count": 30,
   "id": "e1690813",
   "metadata": {},
   "outputs": [
    {
     "data": {
      "image/png": "[encoded data removed]",
      "text/plain": [
       "<Figure size 432x288 with 1 Axes>"
      ]
     },
     "metadata": {
      "needs_background": "light"
     },
     "output_type": "display_data"
    }
   ],
   "source": [
    "## now compare with larger bins\n",
    "## in this case we choose the bins= 20\n",
    "heart_disease['age'].plot.hist(bins=20);"
   ]
  },
  {
   "cell_type": "markdown",
   "id": "0f7c6a67",
   "metadata": {},
   "source": [
    "#### NOTE:\n",
    "the larger we set bins then the descrioption of data distributin is getting more details. But too large setting the bins it will also make the data description vague. \n",
    "\n",
    "In this case bins default = 10 make the probability distribution clearer as the mean leaning towards max value. \n",
    "\n",
    "Compared to the bins=20 which the mean still areound 60 but the distribution is more vague toward which way they lean."
   ]
  },
  {
   "cell_type": "code",
   "execution_count": null,
   "id": "9a60545f",
   "metadata": {},
   "outputs": [],
   "source": []
  }
 ],
 "metadata": {
  "kernelspec": {
   "display_name": "Python 3",
   "language": "python",
   "name": "python3"
  },
  "language_info": {
   "codemirror_mode": {
    "name": "ipython",
    "version": 3
   },
   "file_extension": ".py",
   "mimetype": "text/x-python",
   "name": "python",
   "nbconvert_exporter": "python",
   "pygments_lexer": "ipython3",
   "version": "3.9.5"
  }
 },
 "nbformat": 4,
 "nbformat_minor": 5
}
