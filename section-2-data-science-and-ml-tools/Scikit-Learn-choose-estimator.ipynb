{
 "cells": [
  {
   "cell_type": "markdown",
   "source": [
    "# CHOOSING THE RIGHT ESTIMATOR/ALGORITHM \r\n",
    "Once you've got the data ready the next step is to choose an appropriate machine learning algorithm or model to find patterns in your data. <br><br>\r\n",
    "Some things to note:\r\n",
    "* Sklearn refers to machine learning models and algorithms as estimators.\r\n",
    "* Classification models -> used to predict category ie: in the case of heart disease data predicting category of a subject will have heart disease or not. \r\n",
    "* Regression models -> use to predict number ie: selling price of the next car sales subject in the future.\r\n",
    "* Unsupervised samples -> clustering (grouping labelled samples with other similar unlabelled samples).\r\n",
    "<br><br>\r\n",
    "Here is [the link to the Scikit Learn Documentation map](https://scikit-learn.org/stable/tutorial/machine_learning_map/index.html)\r\n",
    "<br>\r\n",
    "It you know what king of problem you're working with, one of the next places you should look at is the [Scikit Learn algorithm map cheatsheet](https://scikit-learn.org/stable/tutorial/machine_learning_map/index.html). This cheatsheet gives you a bit of an insight into the algorithm you might want to use for the problem you're working on.<br>\r\n",
    "It's important to remember, you don't have to explixcitly know what each algorithm is doing on the inside to start using them. If you do start to apply different algorithms but they don't seem to be working, that's when you would start to look deeper into each node on the cheatsheet map."
   ],
   "metadata": {}
  },
  {
   "cell_type": "markdown",
   "source": [],
   "metadata": {}
  }
 ],
 "metadata": {
  "orig_nbformat": 4,
  "language_info": {
   "name": "python",
   "version": "3.9.5"
  },
  "kernelspec": {
   "name": "python3",
   "display_name": "Python 3.9.5 64-bit (conda)"
  },
  "interpreter": {
   "hash": "50e4ca98e13c163775e6bab358781a0cf2f423532f51d2c251b4fc93a788bc46"
  }
 },
 "nbformat": 4,
 "nbformat_minor": 2
}